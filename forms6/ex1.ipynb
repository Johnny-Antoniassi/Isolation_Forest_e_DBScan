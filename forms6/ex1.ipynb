{
 "cells": [
  {
   "cell_type": "code",
   "execution_count": null,
   "metadata": {},
   "outputs": [],
   "source": [
    "import numpy as np\n",
    "import pandas as pd\n",
    "from sklearn.cluster import DBSCAN\n",
    "from mpl_toolkits.mplot3d import Axes3D\n",
    "import matplotlib.pyplot as plt\n",
    "from sklearn.preprocessing import StandardScaler"
   ]
  },
  {
   "cell_type": "code",
   "execution_count": null,
   "metadata": {},
   "outputs": [],
   "source": [
    "imoveis_data = pd.DataFrame({\n",
    "    \"area\":[120,145,80,160,200,90,110,130,180,160],\n",
    "    \"valor\":[300,450,550,600,350,420,550,780,350,575],\n",
    "    \"dist_praia\":[15,15,8,25,12,15,22,8,5,14]\n",
    "}, index=[1,2,3,4,5,6,7,8,9,10])"
   ]
  },
  {
   "cell_type": "code",
   "execution_count": null,
   "metadata": {},
   "outputs": [],
   "source": [
    "plt.scatter(imoveis_data['area'],imoveis_data['dist_praia'], c=imoveis_data['valor'])\n",
    "plt.xlabel(\"Área\")\n",
    "plt.ylabel(\"Distância praia\")\n",
    "plt.colorbar(label='Valor')\n",
    "plt.show()"
   ]
  },
  {
   "cell_type": "code",
   "execution_count": null,
   "metadata": {},
   "outputs": [],
   "source": [
    "scaler = StandardScaler()\n",
    "scaled_data = scaler.fit_transform(imoveis_data[['area','dist_praia']])\n",
    "dbscan = DBSCAN(eps=30, min_samples=2)\n",
    "dbscan.fit(scaled_data)\n",
    "labels = dbscan.labels_\n",
    "imoveis_data['cluster'] = labels\n",
    "mean_values = imoveis_data.groupby('cluster')['valor'].mean()\n",
    "n_clusters = len(set(labels))-(1 if -1 in labels else 0)"
   ]
  },
  {
   "cell_type": "code",
   "execution_count": null,
   "metadata": {},
   "outputs": [],
   "source": [
    "plt.scatter(imoveis_data['area'],imoveis_data['dist_praia'], c=imoveis_data['cluster'])\n",
    "plt.show()\n"
   ]
  },
  {
   "cell_type": "code",
   "execution_count": null,
   "metadata": {},
   "outputs": [],
   "source": [
    "fig = plt.figure(figsize=(15,15))\n",
    "ax= fig.add_subplot(111, projection='3d')\n",
    "ax.scatter(imoveis_data['area'],imoveis_data['valor'],imoveis_data['dist_praia'], c=imoveis_data['cluster'])\n",
    "plt.show()"
   ]
  }
 ],
 "metadata": {
  "language_info": {
   "name": "python"
  }
 },
 "nbformat": 4,
 "nbformat_minor": 2
}
