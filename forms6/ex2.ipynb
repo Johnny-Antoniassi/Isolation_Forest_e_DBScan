{
 "cells": [
  {
   "cell_type": "code",
   "execution_count": null,
   "metadata": {},
   "outputs": [],
   "source": [
    "import numpy as np\n",
    "import pandas as pd\n",
    "from sklearn.cluster import DBSCAN\n",
    "import matplotlib.pyplot as plt\n",
    "from mpl_toolkits.mplot3d import Axes3D\n",
    "from sklearn.ensemble import IsolationForest"
   ]
  },
  {
   "cell_type": "code",
   "execution_count": null,
   "metadata": {},
   "outputs": [],
   "source": [
    "corrente_eletrica = np.array([5, 10, 14, 2, 1.5, 6])\n",
    "tempo = np.array([1,2,4,6,7,10])"
   ]
  },
  {
   "cell_type": "code",
   "execution_count": null,
   "metadata": {},
   "outputs": [],
   "source": [
    "dados_manutencao = np.column_stack((corrente_eletrica,tempo))"
   ]
  },
  {
   "cell_type": "code",
   "execution_count": null,
   "metadata": {},
   "outputs": [],
   "source": [
    "isolation_forest = IsolationForest(contamination=0.05, random_state=0)\n",
    "isolation_forest.fit(dados_manutencao[:,1:])\n",
    "labels = isolation_forest.predict(dados_manutencao[:, 1:])\n",
    "n_anomalias = np.sum(labels == -1)"
   ]
  },
  {
   "cell_type": "code",
   "execution_count": null,
   "metadata": {},
   "outputs": [],
   "source": [
    "print(\"Anomalias: \", n_anomalias)"
   ]
  },
  {
   "cell_type": "code",
   "execution_count": null,
   "metadata": {},
   "outputs": [],
   "source": [
    "fig = plt.figure(figsize=(15,15))\n",
    "ax = fig.add_subplot(111, projection='3d')\n",
    "ax.scatter(corrente_eletrica, tempo,c=labels, cmap='coolwarm')\n",
    "ax.set_xlabel(\"Corrente elétrica\")\n",
    "ax.set_ylabel(\"Tempo\")\n",
    "plt.show()"
   ]
  }
 ],
 "metadata": {
  "language_info": {
   "name": "python"
  }
 },
 "nbformat": 4,
 "nbformat_minor": 2
}
