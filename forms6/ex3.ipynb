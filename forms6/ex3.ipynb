{
 "cells": [
  {
   "cell_type": "code",
   "execution_count": null,
   "metadata": {},
   "outputs": [],
   "source": [
    "import numpy as np\n",
    "import pandas as pd\n",
    "from sklearn.cluster import DBSCAN\n",
    "from mpl_toolkits.mplot3d import Axes3D\n",
    "import matplotlib.pyplot as plt\n",
    "from sklearn.preprocessing import StandardScaler"
   ]
  },
  {
   "cell_type": "code",
   "execution_count": null,
   "metadata": {},
   "outputs": [],
   "source": [
    "exame_data = pd.DataFrame({\n",
    "    \"leucocitos\" : [2000,4000,5000,6500],\n",
    "    \"plaquetas\" : [100000,20000,80000,145000],\n",
    "    \"linfócitos\" : [2.3,4.5,6.5,4.4]\n",
    "}, index=[1,2,3,4])"
   ]
  },
  {
   "cell_type": "code",
   "execution_count": null,
   "metadata": {},
   "outputs": [],
   "source": [
    "plt.scatter(exame_data['leucocitos'],exame_data['plaquetas'], c=exame_data['linfócitos'])\n",
    "plt.xlabel(\"leucocitos\")\n",
    "plt.ylabel(\"plaquetas\")\n",
    "plt.colorbar(label='linfócitos')\n",
    "plt.show()\n"
   ]
  },
  {
   "cell_type": "code",
   "execution_count": null,
   "metadata": {},
   "outputs": [],
   "source": [
    "scaler = StandardScaler()\n",
    "scaled_data = scaler.fit_transform(exame_data[['leucocitos','plaquetas']])\n",
    "dbscan = DBSCAN(eps=30, min_samples=2)\n",
    "dbscan.fit(scaled_data)\n",
    "labels = dbscan.labels_\n",
    "exame_data['cluster'] = labels\n",
    "mean_values = exame_data.groupby('cluster')['leucocitos'].mean()\n",
    "n_clusters = len(set(labels))-(1 if -1 in labels else 0)"
   ]
  },
  {
   "cell_type": "code",
   "execution_count": null,
   "metadata": {},
   "outputs": [],
   "source": [
    "plt.scatter(exame_data['leucocitos'],exame_data['plaquetas'], c=exame_data['cluster'])\n",
    "plt.show()"
   ]
  },
  {
   "cell_type": "code",
   "execution_count": null,
   "metadata": {},
   "outputs": [],
   "source": [
    "fig = plt.figure(figsize=(15,15))\n",
    "ax= fig.add_subplot(111, projection='3d')\n",
    "ax.scatter(exame_data['leucocitos'],exame_data['plaquetas'],exame_data['linfócitos'], c=exame_data['cluster'])\n",
    "plt.show()"
   ]
  }
 ],
 "metadata": {
  "language_info": {
   "name": "python"
  }
 },
 "nbformat": 4,
 "nbformat_minor": 2
}
