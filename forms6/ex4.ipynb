{
 "cells": [
  {
   "cell_type": "code",
   "execution_count": null,
   "metadata": {},
   "outputs": [],
   "source": [
    "import numpy as np\n",
    "import pandas as pd\n",
    "from sklearn.cluster import DBSCAN\n",
    "from mpl_toolkits.mplot3d import Axes3D\n",
    "import matplotlib.pyplot as plt\n",
    "from sklearn.preprocessing import StandardScaler\n",
    "from sklearn.ensemble import IsolationForest"
   ]
  },
  {
   "cell_type": "code",
   "execution_count": null,
   "metadata": {},
   "outputs": [],
   "source": [
    "leucocitos =[2000,4000,5000,6500]\n",
    "plaquetas = [100000,20000,80000,145000]\n",
    "linfocitos = [2.3,4.5,6.5,4.4]"
   ]
  },
  {
   "cell_type": "code",
   "execution_count": null,
   "metadata": {},
   "outputs": [],
   "source": [
    "plt.scatter(leucocitos,plaquetas, c=linfocitos)\n",
    "plt.xlabel(\"leucocitos\")\n",
    "plt.ylabel(\"plaquetas\")\n",
    "plt.colorbar(label='linfócitos')\n",
    "plt.show()"
   ]
  },
  {
   "cell_type": "code",
   "execution_count": null,
   "metadata": {},
   "outputs": [],
   "source": [
    "exame_data = np.column_stack((leucocitos,plaquetas,linfocitos))\n",
    "isolation_forest = IsolationForest(contamination=0.05, random_state=0)\n",
    "isolation_forest.fit(exame_data[:,1:])\n",
    "labels = isolation_forest.predict(exame_data[:, 1:])\n",
    "n_anomalias = np.sum(labels == -1)"
   ]
  },
  {
   "cell_type": "code",
   "execution_count": null,
   "metadata": {},
   "outputs": [],
   "source": [
    "print(\"Anomalias: \", n_anomalias)"
   ]
  },
  {
   "cell_type": "code",
   "execution_count": null,
   "metadata": {},
   "outputs": [],
   "source": [
    "fig = plt.figure(figsize=(15,15))\n",
    "ax= fig.add_subplot(111, projection='3d')\n",
    "ax.scatter(leucocitos,plaquetas,linfocitos, c=labels, cmap='coolwarm')\n",
    "ax.set_xlabel(\"Leucócitos\")\n",
    "ax.set_ylabel(\"Plaquetas\")\n",
    "ax.set_zlabel(\"Linfócitos\")\n",
    "plt.show()"
   ]
  }
 ],
 "metadata": {
  "language_info": {
   "name": "python"
  }
 },
 "nbformat": 4,
 "nbformat_minor": 2
}
